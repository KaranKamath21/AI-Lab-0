{
  "cells": [
    {
      "cell_type": "code",
      "execution_count": 5,
      "metadata": {
        "colab": {
          "base_uri": "https://localhost:8080/"
        },
        "id": "d3XtCRva9oUP",
        "outputId": "72cc631a-c241-4212-a5a9-77a41276b786"
      },
      "outputs": [
        {
          "name": "stdout",
          "output_type": "stream",
          "text": [
            "Collecting graphviz\n",
            "  Downloading graphviz-0.20.3-py3-none-any.whl.metadata (12 kB)\n",
            "Downloading graphviz-0.20.3-py3-none-any.whl (47 kB)\n",
            "\u001b[2K   \u001b[90m━━━━━━━━━━━━━━━━━━━━━━━━━━━━━━━━━━━━━━━━\u001b[0m \u001b[32m47.1/47.1 kB\u001b[0m \u001b[31m1.4 MB/s\u001b[0m eta \u001b[36m0:00:00\u001b[0m\n",
            "\u001b[?25hInstalling collected packages: graphviz\n",
            "Successfully installed graphviz-0.20.3\n",
            "Note: you may need to restart the kernel to use updated packages.\n"
          ]
        }
      ],
      "source": [
        "# %pip install category_encoders\n",
        "%pip install graphviz"
      ]
    },
    {
      "cell_type": "code",
      "execution_count": 7,
      "metadata": {
        "colab": {
          "base_uri": "https://localhost:8080/"
        },
        "id": "l1_dNEhg9dcN",
        "outputId": "e9705562-70cd-4869-d9e5-2ec5f917ddd8"
      },
      "outputs": [
        {
          "name": "stdout",
          "output_type": "stream",
          "text": [
            "Model average accuracy score with criterion entropy: 0.7689306358381504\n",
            "Model average F1-score: 0.7415350715248213\n"
          ]
        }
      ],
      "source": [
        "import numpy as np\n",
        "import pandas as pd\n",
        "import matplotlib.pyplot as plt\n",
        "import seaborn as sns\n",
        "import warnings\n",
        "warnings.filterwarnings('ignore')\n",
        "from sklearn.model_selection import train_test_split\n",
        "import category_encoders as ce\n",
        "from sklearn.tree import DecisionTreeClassifier\n",
        "from sklearn.metrics import accuracy_score, confusion_matrix, f1_score\n",
        "import graphviz\n",
        "\n",
        "# Load the dataset\n",
        "df = pd.read_csv('car_evaluation.csv', header=None)\n",
        "col_names = ['buying', 'maint', 'doors', 'persons', 'lug_boot', 'safety', 'class']\n",
        "df.columns = col_names\n",
        "\n",
        "# Define lists to store results\n",
        "accuracy_scores = []\n",
        "f1_scores = []\n",
        "\n",
        "# Perform 20 iterations\n",
        "for i in range(20):\n",
        "    X = df.drop(['class'], axis=1)\n",
        "    y = df['class']\n",
        "    # Split data into train and test sets\n",
        "    X_train, X_test, y_train, y_test = train_test_split(X, y, test_size=0.4, random_state=i)\n",
        "\n",
        "    # Encode categorical features\n",
        "    encoder = ce.OrdinalEncoder(cols=['buying', 'maint', 'doors', 'persons', 'lug_boot', 'safety'])\n",
        "    X_train_enc = encoder.fit_transform(X_train)\n",
        "    X_test_enc = encoder.transform(X_test)\n",
        "\n",
        "    # Train Decision Tree classifier\n",
        "    clf_en = DecisionTreeClassifier(criterion='entropy', max_depth=3, random_state=0)\n",
        "    clf_en.fit(X_train_enc, y_train)\n",
        "\n",
        "    # Predict labels\n",
        "    y_pred_en = clf_en.predict(X_test_enc)\n",
        "\n",
        "    # Calculate accuracy and F1-score\n",
        "    accuracy = accuracy_score(y_test, y_pred_en)\n",
        "    f1 = f1_score(y_test, y_pred_en, average='weighted')\n",
        "\n",
        "    # Append results to lists\n",
        "    accuracy_scores.append(accuracy)\n",
        "    f1_scores.append(f1)\n",
        "\n",
        "# Calculate average accuracy and F1-score\n",
        "avg_accuracy = np.mean(accuracy_scores)\n",
        "avg_f1 = np.mean(f1_scores)\n",
        "\n",
        "# Print average accuracy and F1-score\n",
        "print('Model average accuracy score with criterion entropy:', avg_accuracy)\n",
        "print('Model average F1-score:', avg_f1)"
      ]
    }
  ],
  "metadata": {
    "colab": {
      "provenance": []
    },
    "kernelspec": {
      "display_name": "Python 3",
      "name": "python3"
    },
    "language_info": {
      "codemirror_mode": {
        "name": "ipython",
        "version": 3
      },
      "file_extension": ".py",
      "mimetype": "text/x-python",
      "name": "python",
      "nbconvert_exporter": "python",
      "pygments_lexer": "ipython3",
      "version": "3.12.3"
    }
  },
  "nbformat": 4,
  "nbformat_minor": 0
}
