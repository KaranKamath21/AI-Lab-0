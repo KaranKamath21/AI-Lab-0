{
  "cells": [
    {
      "cell_type": "code",
      "execution_count": 1,
      "metadata": {
        "id": "tS1XGrBZdtkw"
      },
      "outputs": [],
      "source": [
        "import random"
      ]
    },
    {
      "cell_type": "code",
      "execution_count": 2,
      "metadata": {
        "id": "dgAZgIW9d02T"
      },
      "outputs": [],
      "source": [
        "def generate_puzzle_8_depth_d(d):\n",
        "  goal_state = [0,1,2,3,45,6,7,8]\n",
        "  current_state = goal_state.copy()\n",
        "\n",
        "  for depth in range(d+1):\n",
        "    result , current_state = perform_depth_limited_search(current_state,goal_state,depth)\n",
        "    if result ==\"found\":\n",
        "      return current_state\n",
        "\n",
        "  return None"
      ]
    },
    {
      "cell_type": "code",
      "execution_count": 3,
      "metadata": {
        "id": "1mPQ8y0VeWnt"
      },
      "outputs": [],
      "source": [
        "def perform_depth_limited_search(current_state,goal_state,depth_limit):\n",
        "  if current_state == goal_state:\n",
        "    return \"found\", current_state\n",
        "\n",
        "  if depth_limit ==0:\n",
        "    return \"not found\", current_state\n",
        "\n",
        "  moves = get_possible_moves(current_state)\n",
        "  random.shuffle(moves)\n",
        "\n",
        "  for move in moves :\n",
        "    new_state = perform_move(current_state,move)\n",
        "    result, final_state = perform_depth_limited_search(new_state,goal_state,depth_limit -1)\n",
        "    if result == \"found\" :\n",
        "      return \"found\", final_state\n",
        "    return \"not_found\",current_state\n",
        "    "
      ]
    }
  ],
  "metadata": {
    "colab": {
      "provenance": []
    },
    "kernelspec": {
      "display_name": "Python 3",
      "name": "python3"
    },
    "language_info": {
      "codemirror_mode": {
        "name": "ipython",
        "version": 3
      },
      "file_extension": ".py",
      "mimetype": "text/x-python",
      "name": "python",
      "nbconvert_exporter": "python",
      "pygments_lexer": "ipython3",
      "version": "3.12.3"
    }
  },
  "nbformat": 4,
  "nbformat_minor": 0
}
