{
  "cells": [
    {
      "cell_type": "code",
      "execution_count": 13,
      "metadata": {
        "id": "lvb5zAyWNaQt"
      },
      "outputs": [],
      "source": [
        "import random"
      ]
    },
    {
      "cell_type": "code",
      "execution_count": 14,
      "metadata": {
        "id": "44IYMY07OD8S"
      },
      "outputs": [],
      "source": [
        "# This function return list of possible moves from the current state\n",
        "def get_possible_moves(state):\n",
        "  #Ge a list of possible moves from the current state\n",
        "  possible_moves = []\n",
        "  for i in range(3):\n",
        "    for j in range(3):\n",
        "      if state[i][j] == 0:\n",
        "        if i>0:\n",
        "          possible_moves.append((i-1,j))\n",
        "          if i <2:\n",
        "            possible_moves.append((i+1,j))\n",
        "          if j >0:\n",
        "            possible_moves.append((i,j-1))\n",
        "          if j <2:\n",
        "            possible_moves.append((i,j+1))\n",
        "  return possible_moves"
      ]
    },
    {
      "cell_type": "code",
      "execution_count": 15,
      "metadata": {
        "id": "QwePUq9YOs28"
      },
      "outputs": [],
      "source": [
        "#This function performs a move on the current state\n",
        "def perform_move(state,move):\n",
        "  i,j = new_state = [row[:] for row in state]\n",
        "  new_state[i][j], new_state[move[0]][move[1]] = new_state[move[0]][move[1]], new_state[i][j]\n",
        "  return new_state"
      ]
    },
    {
      "cell_type": "code",
      "execution_count": 16,
      "metadata": {
        "id": "dLBFQCKaNkI5"
      },
      "outputs": [],
      "source": [
        "# here 0 = blank space\n",
        "GOAL_STATE =  [[1,2,3],[4,5,6],[7,8,0]]\n",
        "#This function generates a random state by performing 100 random moves from the goal state.\n",
        "def generate_random_state():\n",
        "  current_state = GOAL_STATE\n",
        "  for i in range(100):\n",
        "    possible_moves = get_possible_moves(current_state)\n",
        "    random_move = random.choice(possible_moves)\n",
        "    current_state = perform_move(current_state,random_move)\n",
        "  return current_state"
      ]
    },
    {
      "cell_type": "code",
      "execution_count": 17,
      "metadata": {
        "id": "wGMb-zqgPJJA"
      },
      "outputs": [],
      "source": [
        "#This function checks if current state is goal state\n",
        "def is_goal_state(state):\n",
        "  #Check if the current state is teh goal state\n",
        "  return state == GOAL_STATE"
      ]
    },
    {
      "cell_type": "code",
      "execution_count": 18,
      "metadata": {
        "id": "bgx7pb2WPRYc"
      },
      "outputs": [],
      "source": [
        "#This functiono calculates the Manhattan distance heuristic for the current state.\n",
        "def manhattan_distance(state):\n",
        "  #Calculate the Manhattan distance heuristic\n",
        "  distance = 0\n",
        "  for i in range(3):\n",
        "    for j in range(3):\n",
        "      if state[i][j] != 0 :\n",
        "        row = (state[i][j] -1 )//3\n",
        "        col = (state[i][j] -1 )%3\n",
        "        distance += abs(row - i) + abs(col-j)\n",
        "  return distance\n"
      ]
    }
  ],
  "metadata": {
    "colab": {
      "provenance": []
    },
    "kernelspec": {
      "display_name": "Python 3",
      "name": "python3"
    },
    "language_info": {
      "codemirror_mode": {
        "name": "ipython",
        "version": 3
      },
      "file_extension": ".py",
      "mimetype": "text/x-python",
      "name": "python",
      "nbconvert_exporter": "python",
      "pygments_lexer": "ipython3",
      "version": "3.12.3"
    }
  },
  "nbformat": 4,
  "nbformat_minor": 0
}
